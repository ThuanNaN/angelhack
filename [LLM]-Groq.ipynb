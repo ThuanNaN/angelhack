{
 "cells": [
  {
   "cell_type": "markdown",
   "metadata": {},
   "source": [
    "Get API key from [here](https://console.groq.com/keys)"
   ]
  },
  {
   "cell_type": "code",
   "execution_count": null,
   "metadata": {},
   "outputs": [],
   "source": [
    "!pip install groq python-dotenv"
   ]
  },
  {
   "cell_type": "code",
   "execution_count": 3,
   "metadata": {},
   "outputs": [
    {
     "name": "stdout",
     "output_type": "stream",
     "text": [
      "Hi! I'm an AI designed to assist and communicate with humans. I can do many things, but here are some examples:\n",
      "\n",
      "1. **Answer questions**: I can process and respond to natural language queries on a wide range of topics, from science and history to entertainment and culture.\n",
      "2. **Generate text**: I can create text based on a prompt or topic. This can be useful for writing articles, stories, or even entire scripts.\n",
      "3. **Translate languages**: I can translate text from one language to another, including popular languages such as Spanish, French, German, Chinese, and many more.\n",
      "4. **Summarize content**: I can summarize long pieces of text, such as articles or documents, into shorter, more digestible versions.\n",
      "5. **Chat and converse**: I can have a natural conversation with you, understanding context and responding accordingly. We can talk about your interests, hobbies, or anything else that's on your mind.\n",
      "6. **Offer suggestions**: I can suggest potential solutions to problems, or suggest new ideas and perspectives based on your input.\n",
      "7. **Play games**: I can play simple text-based games, such as 20 Questions, Hangman, or Word Jumble.\n",
      "8. **Provide definitions**: I can define words and phrases, explaining their meanings and usage.\n",
      "9. **Generate poetry**: I can generate original poetry based on a given theme, tone, or style.\n",
      "10. **Learn from you**: I can learn from your input and adapt to your communication style over time.\n",
      "\n",
      "These are just a few examples of what I can do. If you have a specific task or question in mind, feel free to ask me and I'll do my best to assist you!\n"
     ]
    }
   ],
   "source": [
    "import os\n",
    "from groq import Groq\n",
    "\n",
    "\n",
    "client = Groq(\n",
    "    api_key=os.getenv(\"GROQ_API_KEY\"),\n",
    ")\n",
    "\n",
    "chat_completion = client.chat.completions.create(\n",
    "    messages=[\n",
    "        {\n",
    "            \"role\": \"user\",\n",
    "            \"content\": \"Hi! what can you do?\",\n",
    "        }\n",
    "    ],\n",
    "    model=\"llama3-8b-8192\",\n",
    ")\n",
    "print(chat_completion.choices[0].message.content)"
   ]
  }
 ],
 "metadata": {
  "kernelspec": {
   "display_name": "angelHack",
   "language": "python",
   "name": "python3"
  },
  "language_info": {
   "codemirror_mode": {
    "name": "ipython",
    "version": 3
   },
   "file_extension": ".py",
   "mimetype": "text/x-python",
   "name": "python",
   "nbconvert_exporter": "python",
   "pygments_lexer": "ipython3",
   "version": "3.11.9"
  }
 },
 "nbformat": 4,
 "nbformat_minor": 2
}
