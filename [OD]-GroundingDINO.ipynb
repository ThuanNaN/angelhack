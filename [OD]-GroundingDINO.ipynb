{
  "nbformat": 4,
  "nbformat_minor": 0,
  "metadata": {
    "colab": {
      "private_outputs": true,
      "provenance": [],
      "gpuType": "T4",
      "authorship_tag": "ABX9TyM3OKkQGgrjbLlm0wLRuKSz",
      "include_colab_link": true
    },
    "kernelspec": {
      "name": "python3",
      "display_name": "Python 3"
    },
    "language_info": {
      "name": "python"
    },
    "accelerator": "GPU"
  },
  "cells": [
    {
      "cell_type": "markdown",
      "metadata": {
        "id": "view-in-github",
        "colab_type": "text"
      },
      "source": [
        "<a href=\"https://colab.research.google.com/github/ThuanNaN/angelhack/blob/main/%5BOD%5D-GroundingDINO.ipynb\" target=\"_parent\"><img src=\"https://colab.research.google.com/assets/colab-badge.svg\" alt=\"Open In Colab\"/></a>"
      ]
    },
    {
      "cell_type": "code",
      "execution_count": null,
      "metadata": {
        "id": "Kv6Gd7K1Hd6f"
      },
      "outputs": [],
      "source": [
        "!git clone https://github.com/IDEA-Research/GroundingDINO.git"
      ]
    },
    {
      "cell_type": "code",
      "source": [
        "%cd GroundingDINO"
      ],
      "metadata": {
        "id": "4vTWJEkzHfwP"
      },
      "execution_count": null,
      "outputs": []
    },
    {
      "cell_type": "code",
      "source": [
        "!pip install -e ."
      ],
      "metadata": {
        "id": "lIrNjKw6HfyY"
      },
      "execution_count": null,
      "outputs": []
    },
    {
      "cell_type": "markdown",
      "source": [
        "## Download ckeckpoint"
      ],
      "metadata": {
        "id": "MMRvZdjtIMei"
      }
    },
    {
      "cell_type": "code",
      "source": [
        "!mkdir weights\n",
        "%cd weights\n",
        "!wget -q https://github.com/IDEA-Research/GroundingDINO/releases/download/v0.1.0-alpha/groundingdino_swint_ogc.pth\n",
        "%cd .."
      ],
      "metadata": {
        "id": "tr9dEc_1Hf0c"
      },
      "execution_count": null,
      "outputs": []
    },
    {
      "cell_type": "code",
      "source": [
        "!mkdir images\n",
        "\n",
        "# Upload images to this folder"
      ],
      "metadata": {
        "id": "Ze6hxzkaJiPr"
      },
      "execution_count": null,
      "outputs": []
    },
    {
      "cell_type": "code",
      "source": [
        "from groundingdino.util.inference import load_model, load_image, predict, annotate\n",
        "import cv2\n",
        "\n",
        "model = load_model(\"groundingdino/config/GroundingDINO_SwinT_OGC.py\", \"./weights/groundingdino_swint_ogc.pth\")\n",
        "IMAGE_PATH = \"./images/ban_nhau.jpg\"\n",
        "TEXT_PROMPT = \"beer . banner .\"\n",
        "BOX_TRESHOLD = 0.35\n",
        "TEXT_TRESHOLD = 0.25\n",
        "\n",
        "image_source, image = load_image(IMAGE_PATH)\n",
        "\n",
        "boxes, logits, phrases = predict(\n",
        "    model=model,\n",
        "    image=image,\n",
        "    caption=TEXT_PROMPT,\n",
        "    box_threshold=BOX_TRESHOLD,\n",
        "    text_threshold=TEXT_TRESHOLD\n",
        ")\n",
        "\n",
        "annotated_frame = annotate(image_source=image_source, boxes=boxes, logits=logits, phrases=phrases)\n",
        "cv2.imwrite(\"ban_nhau_output.jpg\", annotated_frame)"
      ],
      "metadata": {
        "id": "SewfS0BgHf4o"
      },
      "execution_count": null,
      "outputs": []
    },
    {
      "cell_type": "code",
      "source": [
        "from matplotlib import pyplot as plt\n",
        "from PIL import Image\n",
        "\n",
        "ban_nhau_output = Image.open(\"ban_nhau_output.jpg\")\n",
        "plt.imshow(ban_nhau_output)\n",
        "plt.show()"
      ],
      "metadata": {
        "id": "eKQqJu8IHgf5"
      },
      "execution_count": null,
      "outputs": []
    },
    {
      "cell_type": "code",
      "source": [
        "IMAGE_PATH = \"./images/tap_hoa.jpg\"\n",
        "TEXT_PROMPT = \"beer . banner . box\"\n",
        "BOX_TRESHOLD = 0.35\n",
        "TEXT_TRESHOLD = 0.25\n",
        "\n",
        "image_source, image = load_image(IMAGE_PATH)\n",
        "\n",
        "boxes, logits, phrases = predict(\n",
        "    model=model,\n",
        "    image=image,\n",
        "    caption=TEXT_PROMPT,\n",
        "    box_threshold=BOX_TRESHOLD,\n",
        "    text_threshold=TEXT_TRESHOLD\n",
        ")\n",
        "\n",
        "annotated_frame = annotate(image_source=image_source, boxes=boxes, logits=logits, phrases=phrases)\n",
        "cv2.imwrite(\"tap_hoa_output.jpg\", annotated_frame)"
      ],
      "metadata": {
        "id": "iPwcZPViLHTm"
      },
      "execution_count": null,
      "outputs": []
    },
    {
      "cell_type": "code",
      "source": [
        "ban_nhau_output = Image.open(\"tap_hoa_output.jpg\")\n",
        "plt.imshow(ban_nhau_output)\n",
        "plt.show()"
      ],
      "metadata": {
        "id": "YUtdi94uLOi9"
      },
      "execution_count": null,
      "outputs": []
    }
  ]
}